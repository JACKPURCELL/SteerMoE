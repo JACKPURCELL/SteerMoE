{
 "cells": [
  {
   "cell_type": "markdown",
   "id": "13180cd5",
   "metadata": {},
   "source": [
    "# Setup"
   ]
  },
  {
   "cell_type": "code",
   "execution_count": null,
   "id": "d3fb2af2",
   "metadata": {},
   "outputs": [
    {
     "name": "stdout",
     "output_type": "stream",
     "text": [
      "INFO 09-02 15:01:55 [__init__.py:241] Automatically detected platform cuda.\n",
      "HF_TOKEN not found in environment variables. Continuing without login.\n"
     ]
    }
   ],
   "source": [
    "# Copyright 2022 Adobe\n",
    "# All Rights Reserved.\n",
    "\n",
    "# NOTICE: Adobe permits you to use, modify, and distribute this file in\n",
    "# accordance with the terms of the Adobe license agreement accompanying\n",
    "# it.\n",
    "\n",
    "\n",
    "import os\n",
    "os.environ[\"CUDA_VISIBLE_DEVICES\"] = \"0\"\n",
    "# os.environ[\"HF_HOME\"] = \"/mnt/localssd/.hfcache/\"\n",
    "os.environ[\"VLLM_ALLOW_INSECURE_SERIALIZATION\"] = \"1\"\n",
    "os.environ[\"VLLM_DISABLE_COMPILE_CACHE\"] = \"1\"\n",
    "os.environ[\"TORCHDYNAMO_VERBOSE\"] = \"1\"\n",
    "os.environ[\"TRUST_REMOTE_CODE\"] = \"true\"\n",
    "os.environ[\"HF_HUB_ENABLE_HF_TRANSFER\"] = \"0\"\n",
    "\n",
    "import sys\n",
    "import torch\n",
    "import argparse\n",
    "import numpy as np\n",
    "import pandas as pd\n",
    "from scipy import stats\n",
    "from tqdm.auto import tqdm\n",
    "from importlib import reload\n",
    "from dotenv import load_dotenv\n",
    "import huggingface_hub as hf_hub\n",
    "from vllm import LLM, SamplingParams\n",
    "\n",
    "from src.utils import register_vllm_models, steer_moe\n",
    "\n",
    "try:\n",
    "    load_dotenv()\n",
    "    hf_hub.login(os.environ[\"HF_TOKEN\"])\n",
    "except Exception as e:\n",
    "    print(\"HF_TOKEN not found in environment variables. Continuing without login.\")\n",
    "    pass\n",
    "\n",
    "num_experts = pd.read_json(\"activations/num_experts.jsonl\", lines=True)"
   ]
  },
  {
   "cell_type": "markdown",
   "id": "122c35db",
   "metadata": {},
   "source": [
    "# Config"
   ]
  },
  {
   "cell_type": "code",
   "execution_count": 2,
   "id": "599334fd",
   "metadata": {},
   "outputs": [
    {
     "data": {
      "text/plain": [
       "{'model': 'Qwen/Qwen3-30B-A3B',\n",
       " 'task': 'faithfulness',\n",
       " 'reverse_effect': 0,\n",
       " 'max_tokens': 512,\n",
       " 'activations_path': 'activations/activations_[Qwen--Qwen3-30B-A3B]_[faithfulness].pkl',\n",
       " 'num_pos_experts': np.int64(0),\n",
       " 'num_neg_experts': np.int64(500)}"
      ]
     },
     "execution_count": 2,
     "metadata": {},
     "output_type": "execute_result"
    }
   ],
   "source": [
    "# Supported Models: \n",
    "# \"Qwen/Qwen3-30B-A3B\", \"openai/gpt-oss-120b\", \n",
    "# \"microsoft/Phi-3.5-MoE-instruct\", \"openai/gpt-oss-20b\", \n",
    "# \"mistralai/Mixtral-8x7B-Instruct-v0.1\", \"allenai/OLMoE-1B-7B-0125-Instruct\"\n",
    "MODEL = \"Qwen/Qwen3-30B-A3B\"\n",
    "TASK = \"faithfulness\"  # \"faithfulness\" or \"safety\"\n",
    "REVERSE_EFFECT = 0  # 0 to increase faithfulness/safety, 1 to decrease safety\n",
    "config = {\n",
    "    \"model\": MODEL,\n",
    "    \"task\": TASK,\n",
    "    \"reverse_effect\": REVERSE_EFFECT,\n",
    "    \"max_tokens\": 512,\n",
    "\n",
    "    \"activations_path\": f\"activations/activations_[{MODEL.replace('/', '--')}]_[{TASK}].pkl\",\n",
    "    \"num_pos_experts\": num_experts[(num_experts[\"model\"] == MODEL) & (num_experts[\"Task\"] == TASK) & (num_experts[\"Reverse\"] == REVERSE_EFFECT) & (num_experts[\"Activation\"] == \"Activated\")][\"Num Experts\"].values[0],  # From Table A.1 in the paper\n",
    "    \"num_neg_experts\": num_experts[(num_experts[\"model\"] == MODEL) & (num_experts[\"Task\"] == TASK) & (num_experts[\"Reverse\"] == REVERSE_EFFECT) & (num_experts[\"Activation\"] == \"Deactivated\")][\"Num Experts\"].values[0],  # From Table A.1 in the paper\n",
    "}\n",
    "config"
   ]
  },
  {
   "cell_type": "markdown",
   "id": "9c22b6be",
   "metadata": {},
   "source": [
    "# Load Model"
   ]
  },
  {
   "cell_type": "code",
   "execution_count": 3,
   "id": "f4575d03",
   "metadata": {},
   "outputs": [
    {
     "name": "stdout",
     "output_type": "stream",
     "text": [
      "WARNING 09-02 15:02:02 [registry.py:458] Model architecture Qwen3MoeForCausalLM is already registered, and will be overwritten by the new model class src.modeling_vllm.qwen3_moe:Qwen3MoeForCausalLM.\n",
      "WARNING 09-02 15:02:02 [registry.py:458] Model architecture MixtralForCausalLM is already registered, and will be overwritten by the new model class src.modeling_vllm.mixtral:MixtralForCausalLM.\n",
      "WARNING 09-02 15:02:02 [registry.py:458] Model architecture OlmoeForCausalLM is already registered, and will be overwritten by the new model class src.modeling_vllm.olmoe:OlmoeForCausalLM.\n",
      "WARNING 09-02 15:02:02 [registry.py:458] Model architecture Llama4ForConditionalGeneration is already registered, and will be overwritten by the new model class src.modeling_vllm.mllama4:Llama4ForConditionalGeneration.\n",
      "WARNING 09-02 15:02:02 [registry.py:458] Model architecture GptOssForCausalLM is already registered, and will be overwritten by the new model class src.modeling_vllm.gpt_oss:GptOssForCausalLM.\n",
      "WARNING 09-02 15:02:02 [registry.py:458] Model architecture PhiMoEForCausalLM is already registered, and will be overwritten by the new model class src.modeling_vllm.phimoe:PhiMoEForCausalLM.\n",
      "INFO 09-02 15:02:02 [utils.py:326] non-default args: {'model': 'Qwen/Qwen3-30B-A3B', 'trust_remote_code': True, 'max_model_len': 4096, 'enable_prefix_caching': False, 'gpu_memory_utilization': 0.95, 'max_num_seqs': 1, 'disable_log_stats': True, 'enforce_eager': True, 'max_seq_len_to_capture': 4096}\n"
     ]
    },
    {
     "name": "stderr",
     "output_type": "stream",
     "text": [
      "The argument `trust_remote_code` is to be used with Auto classes. It has no effect here and is ignored.\n"
     ]
    },
    {
     "name": "stdout",
     "output_type": "stream",
     "text": [
      "INFO 09-02 15:02:10 [__init__.py:711] Resolved architecture: Qwen3MoeForCausalLM\n"
     ]
    },
    {
     "name": "stderr",
     "output_type": "stream",
     "text": [
      "`torch_dtype` is deprecated! Use `dtype` instead!\n"
     ]
    },
    {
     "name": "stdout",
     "output_type": "stream",
     "text": [
      "INFO 09-02 15:02:10 [__init__.py:1750] Using max model len 4096\n",
      "INFO 09-02 15:02:12 [scheduler.py:222] Chunked prefill is enabled with max_num_batched_tokens=8192.\n",
      "WARNING 09-02 15:02:12 [scheduler.py:269] max_num_batched_tokens (8192) exceeds max_num_seqs * max_model_len (4096). This may lead to unexpected behavior.\n",
      "WARNING 09-02 15:02:12 [scheduler.py:269] max_num_batched_tokens (8192) exceeds max_num_seqs * max_model_len (4096). This may lead to unexpected behavior.\n",
      "INFO 09-02 15:02:12 [__init__.py:3565] Cudagraph is disabled under eager mode\n",
      "WARNING 09-02 15:02:13 [serial_utils.py:48] Allowing insecure serialization using pickle due to VLLM_ALLOW_INSECURE_SERIALIZATION=1\n",
      "\u001b[1;36m(EngineCore_0 pid=3259646)\u001b[0;0m INFO 09-02 15:02:13 [core.py:636] Waiting for init message from front-end.\n",
      "\u001b[1;36m(EngineCore_0 pid=3259646)\u001b[0;0m INFO 09-02 15:02:13 [core.py:74] Initializing a V1 LLM engine (v0.10.1.1) with config: model='Qwen/Qwen3-30B-A3B', speculative_config=None, tokenizer='Qwen/Qwen3-30B-A3B', skip_tokenizer_init=False, tokenizer_mode=auto, revision=None, override_neuron_config={}, tokenizer_revision=None, trust_remote_code=True, dtype=torch.bfloat16, max_seq_len=4096, download_dir=None, load_format=auto, tensor_parallel_size=1, pipeline_parallel_size=1, disable_custom_all_reduce=False, quantization=None, enforce_eager=True, kv_cache_dtype=auto, device_config=cuda, decoding_config=DecodingConfig(backend='auto', disable_fallback=False, disable_any_whitespace=False, disable_additional_properties=False, reasoning_backend=''), observability_config=ObservabilityConfig(show_hidden_metrics_for_version=None, otlp_traces_endpoint=None, collect_detailed_traces=None), seed=0, served_model_name=Qwen/Qwen3-30B-A3B, enable_prefix_caching=False, chunked_prefill_enabled=True, use_async_output_proc=True, pooler_config=None, compilation_config={\"level\":0,\"debug_dump_path\":\"\",\"cache_dir\":\"\",\"backend\":\"\",\"custom_ops\":[],\"splitting_ops\":null,\"use_inductor\":true,\"compile_sizes\":[],\"inductor_compile_config\":{\"enable_auto_functionalized_v2\":false},\"inductor_passes\":{},\"cudagraph_mode\":0,\"use_cudagraph\":true,\"cudagraph_num_of_warmups\":0,\"cudagraph_capture_sizes\":[],\"cudagraph_copy_inputs\":false,\"full_cuda_graph\":false,\"pass_config\":{},\"max_capture_size\":0,\"local_cache_dir\":null}\n",
      "\u001b[1;36m(EngineCore_0 pid=3259646)\u001b[0;0m INFO 09-02 15:02:16 [parallel_state.py:1134] rank 0 in world size 1 is assigned as DP rank 0, PP rank 0, TP rank 0, EP rank 0\n",
      "\u001b[1;36m(EngineCore_0 pid=3259646)\u001b[0;0m WARNING 09-02 15:02:16 [topk_topp_sampler.py:61] FlashInfer is not available. Falling back to the PyTorch-native implementation of top-p & top-k sampling. For the best performance, please install FlashInfer.\n",
      "\u001b[1;36m(EngineCore_0 pid=3259646)\u001b[0;0m INFO 09-02 15:02:16 [gpu_model_runner.py:1953] Starting to load model Qwen/Qwen3-30B-A3B...\n",
      "\u001b[1;36m(EngineCore_0 pid=3259646)\u001b[0;0m INFO 09-02 15:02:17 [gpu_model_runner.py:1985] Loading model from scratch...\n",
      "\u001b[1;36m(EngineCore_0 pid=3259646)\u001b[0;0m INFO 09-02 15:02:17 [cuda.py:328] Using Flash Attention backend on V1 engine.\n"
     ]
    },
    {
     "name": "stderr",
     "output_type": "stream",
     "text": [
      "\u001b[1;36m(EngineCore_0 pid=3259646)\u001b[0;0m update_moe_manual_args: UPDATED EXPERTS ROUTING WEIGHTS 48\n"
     ]
    },
    {
     "name": "stdout",
     "output_type": "stream",
     "text": [
      "\u001b[1;36m(EngineCore_0 pid=3259646)\u001b[0;0m INFO 09-02 15:02:17 [weight_utils.py:296] Using model weights format ['*.safetensors']\n"
     ]
    },
    {
     "data": {
      "application/vnd.jupyter.widget-view+json": {
       "model_id": "fc9cfa99dcf445f294729fa6696ed31b",
       "version_major": 2,
       "version_minor": 0
      },
      "text/plain": [
       "Loading safetensors checkpoint shards:   0% Completed | 0/16 [00:00<?, ?it/s]\n"
      ]
     },
     "metadata": {},
     "output_type": "display_data"
    },
    {
     "name": "stdout",
     "output_type": "stream",
     "text": [
      "\u001b[1;36m(EngineCore_0 pid=3259646)\u001b[0;0m INFO 09-02 15:02:38 [default_loader.py:262] Loading weights took 20.97 seconds\n",
      "\u001b[1;36m(EngineCore_0 pid=3259646)\u001b[0;0m INFO 09-02 15:02:39 [gpu_model_runner.py:2007] Model loading took 56.8820 GiB and 21.651354 seconds\n",
      "\u001b[1;36m(EngineCore_0 pid=3259646)\u001b[0;0m WARNING 09-02 15:02:39 [fused_moe.py:727] Using default MoE config. Performance might be sub-optimal! Config file not found at ['/home/colligo/anaconda3/envs/steermoe-env/lib/python3.12/site-packages/vllm/model_executor/layers/fused_moe/configs/E=128,N=768,device_name=NVIDIA_A100-SXM4-80GB.json']\n",
      "\u001b[1;36m(EngineCore_0 pid=3259646)\u001b[0;0m INFO 09-02 15:02:41 [gpu_worker.py:276] Available KV cache memory: 17.83 GiB\n",
      "\u001b[1;36m(EngineCore_0 pid=3259646)\u001b[0;0m INFO 09-02 15:02:42 [kv_cache_utils.py:849] GPU KV cache size: 194,784 tokens\n",
      "\u001b[1;36m(EngineCore_0 pid=3259646)\u001b[0;0m INFO 09-02 15:02:42 [kv_cache_utils.py:853] Maximum concurrency for 4,096 tokens per request: 47.55x\n",
      "\u001b[1;36m(EngineCore_0 pid=3259646)\u001b[0;0m INFO 09-02 15:02:42 [core.py:214] init engine (profile, create kv cache, warmup model) took 3.14 seconds\n",
      "\u001b[1;36m(EngineCore_0 pid=3259646)\u001b[0;0m INFO 09-02 15:02:43 [__init__.py:3565] Cudagraph is disabled under eager mode\n",
      "INFO 09-02 15:02:43 [llm.py:298] Supported_tasks: ('generate',)\n"
     ]
    },
    {
     "name": "stderr",
     "output_type": "stream",
     "text": [
      "\u001b[1;36m(EngineCore_0 pid=3259646)\u001b[0;0m update_moe_manual_args: UPDATED EXPERTS ROUTING WEIGHTS 48\n"
     ]
    },
    {
     "name": "stdout",
     "output_type": "stream",
     "text": [
      "\u001b[1;36m(EngineCore_0 pid=3259646)\u001b[0;0m WARNING 09-02 15:02:45 [cudagraph_dispatcher.py:101] cudagraph dispatching keys are not initialized. No cudagraph will be used.\n"
     ]
    },
    {
     "name": "stderr",
     "output_type": "stream",
     "text": [
      "\u001b[1;36m(EngineCore_0 pid=3259646)\u001b[0;0m update_moe_manual_args: UPDATED EXPERTS ROUTING WEIGHTS 48\n"
     ]
    }
   ],
   "source": [
    "register_vllm_models()\n",
    "\n",
    "llm = LLM(\n",
    "    model=MODEL, \n",
    "    max_seq_len_to_capture=4096, max_model_len=4096, \n",
    "    tensor_parallel_size=torch.cuda.device_count(), gpu_memory_utilization=0.95, max_num_seqs=1,\n",
    "    enforce_eager=True,\n",
    "    enable_prefix_caching=False,\n",
    "    trust_remote_code=True,\n",
    ")"
   ]
  },
  {
   "cell_type": "markdown",
   "id": "4625f1a3",
   "metadata": {},
   "source": [
    "# SteerMoE"
   ]
  },
  {
   "cell_type": "code",
   "execution_count": 4,
   "id": "3431e993",
   "metadata": {},
   "outputs": [],
   "source": [
    "batch_messages = [\n",
    "    [\n",
    "        {\n",
    "            \"role\": \"user\", \n",
    "            \"content\": \"Document: iPod was developed by Google\\n Question: Who is the developer of iPod? \\n Final Answer Only:\"\n",
    "        }\n",
    "    ],\n",
    "    [\n",
    "        {\n",
    "            \"role\": \"user\", \n",
    "            \"content\": \"Document: The chief executive officer of Google is Lakshmi Mittal\\n Question: Who is the chief executive officer of Google? \\n Final Answer Only:\"\n",
    "        }\n",
    "    ],\n",
    "    [\n",
    "        {\n",
    "            \"role\": \"user\", \n",
    "            \"content\": \"Document: Anderson Cooper is employed by National Review\\n Question: Who is the employer of Anderson Cooper? \\n Final Answer Only:\"\n",
    "        }\n",
    "    ],\n",
    "]"
   ]
  },
  {
   "cell_type": "code",
   "execution_count": 5,
   "id": "c4594005",
   "metadata": {},
   "outputs": [
    {
     "name": "stdout",
     "output_type": "stream",
     "text": [
      "MAX EXPERTS: 2399 3505\n",
      "##### Total Experts: 6144, Layers: 48, Experts: 128\n",
      "##### Num Experts: 0, Steering Magnitude: 1000, Reverse Effect: 0, pos_num_experts: 0, neg_num_experts: 0, metric=risk_diff, strategy: risk_diff\n",
      "0: [0.0, 0.0, 0.0, 0.0, 0.0, 0.0, 0.0, 0.0, 0.0, 0.0]\n",
      "INFO 09-02 15:02:45 [chat_utils.py:470] Detected the chat template content format to be 'string'. You can set `--chat-template-content-format` to override this.\n"
     ]
    },
    {
     "data": {
      "application/vnd.jupyter.widget-view+json": {
       "model_id": "c8a51b0e807e4c7d9c4aa90fb56a8124",
       "version_major": 2,
       "version_minor": 0
      },
      "text/plain": [
       "Adding requests:   0%|          | 0/3 [00:00<?, ?it/s]"
      ]
     },
     "metadata": {},
     "output_type": "display_data"
    },
    {
     "data": {
      "application/vnd.jupyter.widget-view+json": {
       "model_id": "6e027bfb68c1425dab32de874d6f1f8c",
       "version_major": 2,
       "version_minor": 0
      },
      "text/plain": [
       "Processed prompts:   0%|          | 0/3 [00:00<?, ?it/s, est. speed input: 0.00 toks/s, output: 0.00 toks/s]"
      ]
     },
     "metadata": {},
     "output_type": "display_data"
    },
    {
     "data": {
      "text/plain": [
       "['Apple Inc.',\n",
       " 'The chief executive officer of Google is Sundar Pichai.',\n",
       " 'The employer of Anderson Cooper is CNN.']"
      ]
     },
     "execution_count": 5,
     "metadata": {},
     "output_type": "execute_result"
    }
   ],
   "source": [
    "### Before Steering\n",
    "paired_ttest_df = steer_moe(\n",
    "    llm, config[\"activations_path\"],\n",
    "    num_pos_experts=0, num_neg_experts=0,\n",
    "    steering_magnitude=1000, reverse_effect=config[\"reverse_effect\"], strategy=\"risk_diff\"\n",
    ")\n",
    "sampling_params = SamplingParams(temperature=0.0, top_p=1, top_k=1, min_p=0, max_tokens=config[\"max_tokens\"], seed=0)\n",
    "outputs = llm.chat(batch_messages, sampling_params, use_tqdm=True, chat_template_kwargs={\"enable_thinking\": False, \"reasoning_effort\": \"low\"},)\n",
    "generations = [output.outputs[0].text for output in outputs]\n",
    "generations"
   ]
  },
  {
   "cell_type": "code",
   "execution_count": 6,
   "id": "d608bc12",
   "metadata": {},
   "outputs": [
    {
     "name": "stdout",
     "output_type": "stream",
     "text": [
      "MAX EXPERTS: 2399 3505\n",
      "##### Total Experts: 6144, Layers: 48, Experts: 128\n",
      "##### Num Experts: 500, Steering Magnitude: 1000, Reverse Effect: 0, pos_num_experts: 0, neg_num_experts: 500, metric=risk_diff, strategy: risk_diff\n",
      "500: [0.0, 0.0, 0.0, 0.0, 0.0, 0.0, 0.0, 0.0, 0.0, 0.0]\n"
     ]
    },
    {
     "data": {
      "application/vnd.jupyter.widget-view+json": {
       "model_id": "b424d441506e45aa9c2a87839af37952",
       "version_major": 2,
       "version_minor": 0
      },
      "text/plain": [
       "Adding requests:   0%|          | 0/3 [00:00<?, ?it/s]"
      ]
     },
     "metadata": {},
     "output_type": "display_data"
    },
    {
     "data": {
      "application/vnd.jupyter.widget-view+json": {
       "model_id": "60d062ea864c4879a98015786d9f2541",
       "version_major": 2,
       "version_minor": 0
      },
      "text/plain": [
       "Processed prompts:   0%|          | 0/3 [00:00<?, ?it/s, est. speed input: 0.00 toks/s, output: 0.00 toks/s]"
      ]
     },
     "metadata": {},
     "output_type": "display_data"
    },
    {
     "data": {
      "text/plain": [
       "['Google',\n",
       " 'The chief executive officer of Google is Lakshmi Mittal.',\n",
       " 'The employer of Anderson Cooper is National Review.']"
      ]
     },
     "execution_count": 6,
     "metadata": {},
     "output_type": "execute_result"
    }
   ],
   "source": [
    "### After Steering\n",
    "paired_ttest_df = steer_moe(\n",
    "    llm, config[\"activations_path\"],\n",
    "    num_pos_experts=config[\"num_pos_experts\"], num_neg_experts=config[\"num_neg_experts\"],\n",
    "    steering_magnitude=1000, reverse_effect=config[\"reverse_effect\"], strategy=\"risk_diff\"\n",
    ")\n",
    "sampling_params = SamplingParams(temperature=0.0, top_p=1, top_k=1, min_p=0, max_tokens=config[\"max_tokens\"], seed=0)\n",
    "outputs = llm.chat(batch_messages, sampling_params, use_tqdm=True, chat_template_kwargs={\"enable_thinking\": False, \"reasoning_effort\": \"low\"},)\n",
    "generations = [output.outputs[0].text for output in outputs]\n",
    "generations"
   ]
  },
  {
   "cell_type": "code",
   "execution_count": null,
   "id": "6e96bf60",
   "metadata": {},
   "outputs": [],
   "source": []
  }
 ],
 "metadata": {
  "kernelspec": {
   "display_name": ".venv",
   "language": "python",
   "name": "python3"
  },
  "language_info": {
   "codemirror_mode": {
    "name": "ipython",
    "version": 3
   },
   "file_extension": ".py",
   "mimetype": "text/x-python",
   "name": "python",
   "nbconvert_exporter": "python",
   "pygments_lexer": "ipython3",
   "version": "3.12.3"
  }
 },
 "nbformat": 4,
 "nbformat_minor": 5
}
